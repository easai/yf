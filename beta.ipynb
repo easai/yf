{
 "cells": [
  {
   "cell_type": "markdown",
   "id": "35c73596",
   "metadata": {},
   "source": [
    "Beta (β) is a measure of a stock’s volatility relative to the overall market. It tells you how sensitive a stock’s returns are to movements in a benchmark index—typically the S&P 500 in U.S. markets."
   ]
  },
  {
   "cell_type": "code",
   "execution_count": 1,
   "id": "1ce30435",
   "metadata": {},
   "outputs": [
    {
     "name": "stderr",
     "output_type": "stream",
     "text": [
      "[*********************100%***********************]  1 of 1 completed\n",
      "[*********************100%***********************]  1 of 1 completed"
     ]
    },
    {
     "name": "stdout",
     "output_type": "stream",
     "text": [
      "Beta of MSFT vs ^GSPC: 1.2845\n"
     ]
    },
    {
     "name": "stderr",
     "output_type": "stream",
     "text": [
      "\n"
     ]
    }
   ],
   "source": [
    "import yfinance as yf\n",
    "import numpy as np\n",
    "import pandas as pd\n",
    "\n",
    "# Define tickers and time range\n",
    "stock_ticker = \"MSFT\"\n",
    "market_ticker = \"^GSPC\"  # S&P 500\n",
    "start_date = \"2022-01-01\"\n",
    "end_date = \"2023-01-01\"\n",
    "\n",
    "# Download historical data\n",
    "stock_data = yf.download(stock_ticker, start=start_date, end=end_date, auto_adjust=True)\n",
    "market_data = yf.download(market_ticker, start=start_date, end=end_date, auto_adjust=True)\n",
    "\n",
    "# Calculate daily returns\n",
    "stock_returns = stock_data[\"Close\"].pct_change().dropna()\n",
    "market_returns = market_data[\"Close\"].pct_change().dropna()\n",
    "\n",
    "# Align dates\n",
    "combined = pd.concat([stock_returns, market_returns], axis=1)\n",
    "combined.columns = [\"Stock\", \"Market\"]\n",
    "combined.dropna(inplace=True)\n",
    "\n",
    "# Calculate beta\n",
    "cov_matrix = np.cov(combined[\"Stock\"], combined[\"Market\"])\n",
    "beta = cov_matrix[0, 1] / cov_matrix[1, 1]\n",
    "\n",
    "print(f\"Beta of {stock_ticker} vs {market_ticker}: {beta:.4f}\")\n"
   ]
  }
 ],
 "metadata": {
  "kernelspec": {
   "display_name": "yf-OL5R8oKa-py3.13",
   "language": "python",
   "name": "python3"
  },
  "language_info": {
   "codemirror_mode": {
    "name": "ipython",
    "version": 3
   },
   "file_extension": ".py",
   "mimetype": "text/x-python",
   "name": "python",
   "nbconvert_exporter": "python",
   "pygments_lexer": "ipython3",
   "version": "3.13.0"
  }
 },
 "nbformat": 4,
 "nbformat_minor": 5
}

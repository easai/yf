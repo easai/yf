{
 "cells": [
  {
   "cell_type": "markdown",
   "id": "f89b1943",
   "metadata": {},
   "source": [
    "Let's retrieve the actual data using `yfinance`, a Python library that gives us real-time access to financial metrics.\n",
    "\n",
    "What is the market capitalization of Apple Inc.?\n",
    "\n",
    "Before we even run the query, it's worth pausing. Apple isn't just a tech company—it's an economic force, a symbol of global consumer behavior, supply chain dominance, and brand mythology. But how big is it, really?\n",
    "\n",
    "We often hear phrases like “trillion-dollar company” tossed around casually. But when you see the actual number—when you translate it into plain English—it hits differently."
   ]
  },
  {
   "cell_type": "code",
   "execution_count": 6,
   "id": "2361730d",
   "metadata": {},
   "outputs": [
    {
     "data": {
      "text/plain": [
       "3530231906304"
      ]
     },
     "execution_count": 6,
     "metadata": {},
     "output_type": "execute_result"
    }
   ],
   "source": [
    "import yfinance as yf\n",
    "\n",
    "ticker = yf.Ticker(\"AAPL\")\n",
    "\n",
    "info = ticker.info\n",
    "info[\"marketCap\"]"
   ]
  },
  {
   "cell_type": "markdown",
   "id": "899d878b",
   "metadata": {},
   "source": [
    "Honestly, I couldn't believe it at first. The figure felt abstract, almost fictional. So let's break it down. Let's turn that raw number into something readable, something human."
   ]
  },
  {
   "cell_type": "code",
   "execution_count": 7,
   "id": "451f148b",
   "metadata": {},
   "outputs": [
    {
     "data": {
      "text/plain": [
       "'three trillion, five hundred and thirty billion, two hundred and thirty-one million, nine hundred and six thousand, three hundred and four'"
      ]
     },
     "execution_count": 7,
     "metadata": {},
     "output_type": "execute_result"
    }
   ],
   "source": [
    "import inflect\n",
    "\n",
    "p = inflect.engine()\n",
    "p.number_to_words(info[\"marketCap\"])"
   ]
  },
  {
   "cell_type": "markdown",
   "id": "378ae375",
   "metadata": {},
   "source": [
    "Here you go. "
   ]
  },
  {
   "cell_type": "code",
   "execution_count": 10,
   "id": "fe172656",
   "metadata": {},
   "outputs": [
    {
     "name": "stdout",
     "output_type": "stream",
     "text": [
      "Three trillion\n",
      "Five hundred and thirty billion\n",
      "Two hundred and thirty-one million\n",
      "Nine hundred and six thousand\n",
      "Three hundred and four\n"
     ]
    }
   ],
   "source": [
    "marketCap=p.number_to_words(info[\"marketCap\"])\n",
    "for item in marketCap.split(\", \"):\n",
    "    print(item.capitalize())"
   ]
  }
 ],
 "metadata": {
  "kernelspec": {
   "display_name": "yf-OL5R8oKa-py3.13",
   "language": "python",
   "name": "python3"
  },
  "language_info": {
   "codemirror_mode": {
    "name": "ipython",
    "version": 3
   },
   "file_extension": ".py",
   "mimetype": "text/x-python",
   "name": "python",
   "nbconvert_exporter": "python",
   "pygments_lexer": "ipython3",
   "version": "3.13.0"
  }
 },
 "nbformat": 4,
 "nbformat_minor": 5
}
